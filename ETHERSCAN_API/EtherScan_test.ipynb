{
 "cells": [
  {
   "cell_type": "markdown",
   "metadata": {},
   "source": [
    "### Libraries "
   ]
  },
  {
   "cell_type": "code",
   "execution_count": 14,
   "metadata": {},
   "outputs": [],
   "source": [
    "import numpy as np\n",
    "import pandas as pd\n",
    "import matplotlib.pyplot as plt\n",
    "from matplotlib.patches import Polygon\n",
    "import config_etl_etherscan\n",
    "import requests\n",
    "import json"
   ]
  },
  {
   "cell_type": "markdown",
   "metadata": {},
   "source": [
    "### Get Ether Balance for a Single Address"
   ]
  },
  {
   "cell_type": "markdown",
   "metadata": {},
   "source": [
    "API ENDPOINTS >>> Accounts >>> Get Ether Balance for a Single Address"
   ]
  },
  {
   "cell_type": "code",
   "execution_count": 15,
   "metadata": {},
   "outputs": [],
   "source": [
    "def get_eth_balace(address, api_key):\n",
    "    url = f\"https://api.etherscan.io/v2/api?chainid=1&module=account&action=balance&address={address}&tag=latest&apikey={api_key}\"\n",
    "    #url = f\"https://api.etherscan.io/v2/api?chainid=1&module=account&action=balancemulti&address={ADDRESS_KMBIO},{ADDRESS_TEST}&tag=latest&apikey={API_KEY}\"\n",
    "\n",
    "    headers = {\"accept\": \"application/json\"}\n",
    "    response = requests.get(url, headers=headers)\n",
    "    json_data = response.json()\n",
    "    # json_bonis = json_data\n",
    "    json_bonis = json.dumps(json_data, indent=4, ensure_ascii=False)\n",
    "    # print(json_bonis)\n",
    "    #print(response.json())\n",
    "\n",
    "    datos_diccionario = json.loads(json_bonis)\n",
    "    # print(json_bonis)\n",
    "    # print(datos_diccionario)\n",
    "\n",
    "    balance_wei = int(datos_diccionario['result'])\n",
    "    balance_eth = balance_wei/1000000000000000000\n",
    "\n",
    "    print(f\"ETH BALANCE: {balance_eth} ETH\")\n",
    "\n",
    "    return balance_eth"
   ]
  },
  {
   "cell_type": "code",
   "execution_count": 16,
   "metadata": {},
   "outputs": [
    {
     "data": {
      "text/plain": [
       "2.391663879e-09"
      ]
     },
     "execution_count": 16,
     "metadata": {},
     "output_type": "execute_result"
    }
   ],
   "source": [
    "2391663879/1000000000000000000"
   ]
  },
  {
   "cell_type": "code",
   "execution_count": 17,
   "metadata": {},
   "outputs": [
    {
     "data": {
      "text/plain": [
       "2.391663879e-18"
      ]
     },
     "execution_count": 17,
     "metadata": {},
     "output_type": "execute_result"
    }
   ],
   "source": [
    "0.000000002391663879 / 1000000000"
   ]
  },
  {
   "cell_type": "code",
   "execution_count": 18,
   "metadata": {},
   "outputs": [],
   "source": [
    "API_KEY = config_etl_etherscan.API_KEY_ETHERSCAN\n",
    "ADDRESS_KMBIO = config_etl_etherscan.ADDRESS_KMBIO\n",
    "ADDRESS_TEST = config_etl_etherscan.ADDRESS_TESTEO"
   ]
  },
  {
   "cell_type": "markdown",
   "metadata": {},
   "source": [
    "### Get a list of 'Normal' Transactions By Address"
   ]
  },
  {
   "cell_type": "code",
   "execution_count": 19,
   "metadata": {},
   "outputs": [
    {
     "name": "stdout",
     "output_type": "stream",
     "text": [
      "{\n",
      "    \"status\": \"1\",\n",
      "    \"message\": \"OK\",\n",
      "    \"result\": [\n",
      "        {\n",
      "            \"blockNumber\": \"22148706\",\n",
      "            \"timeStamp\": \"1743204671\",\n",
      "            \"hash\": \"0x0b5b31ee9c15f813a57436cc6e43a59ada6c4430522b59c74c1d13136573b622\",\n",
      "            \"nonce\": \"0\",\n",
      "            \"blockHash\": \"0x1c9db1abba09c45cfe45d6d926ab4fc1c6047e904caa81fce016204cfff8fae0\",\n",
      "            \"transactionIndex\": \"76\",\n",
      "            \"from\": \"0xc199c14ea25a3ce8dd78e8707cf8a4fa3a625fc8\",\n",
      "            \"to\": \"0xa382bc385fa37f71562f7a9c63516315a80c2204\",\n",
      "            \"value\": \"0\",\n",
      "            \"gas\": \"21229\",\n",
      "            \"gasPrice\": \"871410133\",\n",
      "            \"isError\": \"0\",\n",
      "            \"txreceipt_status\": \"1\",\n",
      "            \"input\": \"0x634107f8\",\n",
      "            \"contractAddress\": \"\",\n",
      "            \"cumulativeGasUsed\": \"24028434\",\n",
      "            \"gasUsed\": \"21064\",\n",
      "            \"confirmations\": \"80964\",\n",
      "            \"methodId\": \"0x634107f8\",\n",
      "            \"functionName\": \"drawDown()\"\n",
      "        },\n",
      "        {\n",
      "            \"blockNumber\": \"22148335\",\n",
      "            \"timeStamp\": \"1743200219\",\n",
      "            \"hash\": \"0xa7cece9d687f72afe502babb044b5ddff0a1c536952b4bb6133c26d4186aa52b\",\n",
      "            \"nonce\": \"5937607\",\n",
      "            \"blockHash\": \"0x82a893a11d14bdb1eb8de182d6c8019c01b065a6730cf4f0533b24113d23fc67\",\n",
      "            \"transactionIndex\": \"67\",\n",
      "            \"from\": \"0xf89d7b9c864f589bbf53a82105107622b35eaa40\",\n",
      "            \"to\": \"0xc199c14ea25a3ce8dd78e8707cf8a4fa3a625fc8\",\n",
      "            \"value\": \"28754430000000000\",\n",
      "            \"gas\": \"90000\",\n",
      "            \"gasPrice\": \"2391663879\",\n",
      "            \"isError\": \"0\",\n",
      "            \"txreceipt_status\": \"1\",\n",
      "            \"input\": \"0x\",\n",
      "            \"contractAddress\": \"\",\n",
      "            \"cumulativeGasUsed\": \"8075838\",\n",
      "            \"gasUsed\": \"21000\",\n",
      "            \"confirmations\": \"81335\",\n",
      "            \"methodId\": \"0x\",\n",
      "            \"functionName\": \"\"\n",
      "        }\n",
      "    ]\n",
      "}\n",
      "size del response  2\n"
     ]
    }
   ],
   "source": [
    "adress = ADDRESS_KMBIO\n",
    "api_key = API_KEY\n",
    "offset = 10000\n",
    "page = 1\n",
    "url = f\"https://api.etherscan.io/v2/api?chainid=1&module=account&action=txlist&address={adress}&startblock=0&endblock=latest&page={page}&offset={offset}&sort=desc&apikey={api_key}\"\n",
    "#url = f\"https://api.etherscan.io/v2/api?chainid=1&module=account&action=balancemulti&address={ADDRESS_KMBIO},{ADDRESS_TEST}&tag=latest&apikey={API_KEY}\"\n",
    "\n",
    "headers = {\"accept\": \"application/json\"}\n",
    "response = requests.get(url, headers=headers)\n",
    "json_data = response.json()\n",
    "# json_bonis = json_data\n",
    "json_bonis = json.dumps(json_data, indent=4, ensure_ascii=False)\n",
    "# print(json_bonis)\n",
    "#print(response.json())\n",
    "\n",
    "datos_diccionario = json.loads(json_bonis)\n",
    "\n",
    "print(json_bonis)\n",
    "print(\"size del response \",np.size(datos_diccionario['result']))"
   ]
  },
  {
   "cell_type": "markdown",
   "metadata": {},
   "source": [
    "### Get a list of 'Internal' Transactions by Address"
   ]
  },
  {
   "cell_type": "code",
   "execution_count": 20,
   "metadata": {},
   "outputs": [],
   "source": [
    "adress = ADDRESS_TEST\n",
    "api_key = API_KEY\n",
    "offset = 10000\n",
    "page = 1\n",
    "url = f\"https://api.etherscan.io/v2/api?chainid=1&module=account&action=txlistinternal&address={adress}&startblock=0&endblock=latest&page={page}&offset={offset}&sort=desc&apikey={api_key}\"\n",
    "#url = f\"https://api.etherscan.io/v2/api?chainid=1&module=account&action=balancemulti&address={ADDRESS_KMBIO},{ADDRESS_TEST}&tag=latest&apikey={API_KEY}\"\n",
    "\n",
    "headers = {\"accept\": \"application/json\"}\n",
    "response = requests.get(url, headers=headers)\n",
    "json_data = response.json()\n",
    "# json_bonis = json_data\n",
    "json_bonis = json.dumps(json_data, indent=4, ensure_ascii=False)\n",
    "# print(json_bonis)\n",
    "#print(response.json())\n",
    "\n",
    "datos_diccionario = json.loads(json_bonis)\n",
    "\n",
    "# print(json_bonis)\n",
    "# print(\"size of the response \",np.size(datos_diccionario['result']))"
   ]
  },
  {
   "cell_type": "markdown",
   "metadata": {},
   "source": [
    "### Get Address ERC20 Token Holding (PRO)"
   ]
  },
  {
   "cell_type": "code",
   "execution_count": 21,
   "metadata": {},
   "outputs": [
    {
     "name": "stdout",
     "output_type": "stream",
     "text": [
      "{\n",
      "    \"status\": \"0\",\n",
      "    \"message\": \"NOTOK\",\n",
      "    \"result\": \"Sorry, it looks like you are trying to access an API Pro endpoint. Contact us to upgrade to API Pro.\"\n",
      "}\n"
     ]
    }
   ],
   "source": [
    "adress = ADDRESS_TEST\n",
    "api_key = API_KEY\n",
    "offset = 10000\n",
    "page = 1\n",
    "url = f\"https://api.etherscan.io/v2/api?chainid=1&module=account&action=addresstokenbalance&address={adress}&page=1&offset=100&apikey={api_key}\"\n",
    "\n",
    "headers = {\"accept\": \"application/json\"}\n",
    "response = requests.get(url, headers=headers)\n",
    "json_data = response.json()\n",
    "# json_bonis = json_data\n",
    "json_bonis = json.dumps(json_data, indent=4, ensure_ascii=False)\n",
    "# print(json_bonis)\n",
    "#print(response.json())\n",
    "\n",
    "datos_diccionario = json.loads(json_bonis)\n",
    "print(json_bonis)"
   ]
  },
  {
   "cell_type": "markdown",
   "metadata": {},
   "source": [
    "### Get a list of 'ERC20 - Token Transfer Events' by Address"
   ]
  },
  {
   "cell_type": "code",
   "execution_count": 22,
   "metadata": {},
   "outputs": [
    {
     "name": "stdout",
     "output_type": "stream",
     "text": [
      "{\n",
      "    \"status\": \"1\",\n",
      "    \"message\": \"OK\",\n",
      "    \"result\": [\n",
      "        {\n",
      "            \"blockNumber\": \"21716428\",\n",
      "            \"timeStamp\": \"1737987755\",\n",
      "            \"hash\": \"0xaadcc2d5e35041f0bc82476bf136a326e0a1ff31653341e56b19bab2ca4f8f24\",\n",
      "            \"nonce\": \"7\",\n",
      "            \"blockHash\": \"0x1ca3f8c665ce7116062e611c8091778a7b48a7b598ebc1c172a58b0e22809d58\",\n",
      "            \"from\": \"0x5ebaa6c8ef22ef762a9323981dd7587b4eef1e3f\",\n",
      "            \"contractAddress\": \"0xa0b86991c6218b36c1d19d4a2e9eb0ce3606eb48\",\n",
      "            \"to\": \"0x95222290dd7278aa3ddd389cc1e1d165cc4bafe5\",\n",
      "            \"value\": \"1852000\",\n",
      "            \"tokenName\": \"USDC\",\n",
      "            \"tokenSymbol\": \"USDC\",\n",
      "            \"tokenDecimal\": \"6\",\n",
      "            \"transactionIndex\": \"81\",\n",
      "            \"gas\": \"68292\",\n",
      "            \"gasPrice\": \"33023937642\",\n",
      "            \"gasUsed\": \"45148\",\n",
      "            \"cumulativeGasUsed\": \"5000549\",\n",
      "            \"input\": \"deprecated\",\n",
      "            \"confirmations\": \"513242\"\n",
      "        },\n",
      "        {\n",
      "            \"blockNumber\": \"21642032\",\n",
      "            \"timeStamp\": \"1737090587\",\n",
      "            \"hash\": \"0xb403282e8940c5783252d42b38ff28f876c8c1e4bdec1c6227929d26b5609c25\",\n",
      "            \"nonce\": \"19482\",\n",
      "            \"blockHash\": \"0xe80e2dfc47d3ec82d16e35e867c92eabf870ba77a072f98b15ef8a937b8829b3\",\n",
      "            \"from\": \"0xf140ddebb4caba6838c63617105dc2dd2964a3fd\",\n",
      "            \"contractAddress\": \"0xa0b86991c6218b36c1d19d4a2e9eb0ce3606eb48\",\n",
      "            \"to\": \"0x95222290dd7278aa3ddd389cc1e1d165cc4bafe5\",\n",
      "            \"value\": \"1000170\",\n",
      "            \"tokenName\": \"USDC\",\n",
      "            \"tokenSymbol\": \"USDC\",\n",
      "            \"tokenDecimal\": \"6\",\n",
      "            \"transactionIndex\": \"59\",\n",
      "            \"gas\": \"150000\",\n",
      "            \"gasPrice\": \"4308555282\",\n",
      "            \"gasUsed\": \"45148\",\n",
      "            \"cumulativeGasUsed\": \"4360144\",\n",
      "            \"input\": \"deprecated\",\n",
      "            \"confirmations\": \"587638\"\n",
      "        },\n",
      "        {\n",
      "            \"blockNumber\": \"21588619\",\n",
      "            \"timeStamp\": \"1736446235\",\n",
      "            \"hash\": \"0x499286697b5c8d821d201ab06f76f2c2eb25054b4c3878dd8d69dc1b2b36f8dd\",\n",
      "            \"nonce\": \"0\",\n",
      "            \"blockHash\": \"0xc988818ebf270785787fb254da3376ef29554e259b7d9658764b8373dee34560\",\n",
      "            \"from\": \"0x3fc91a3afd70395cd496c647d5a6cc9d4b2b7fad\",\n",
      "            \"contractAddress\": \"0xa0b86991c6218b36c1d19d4a2e9eb0ce3606eb48\",\n",
      "            \"to\": \"0x95222290dd7278aa3ddd389cc1e1d165cc4bafe5\",\n",
      "            \"value\": \"917368735\",\n",
      "            \"tokenName\": \"USDC\",\n",
      "            \"tokenSymbol\": \"USDC\",\n",
      "            \"tokenDecimal\": \"6\",\n",
      "            \"transactionIndex\": \"128\",\n",
      "            \"gas\": \"641134\",\n",
      "            \"gasPrice\": \"11243796054\",\n",
      "            \"gasUsed\": \"230003\",\n",
      "            \"cumulativeGasUsed\": \"13723567\",\n",
      "            \"input\": \"deprecated\",\n",
      "            \"confirmations\": \"641051\"\n",
      "        },\n",
      "        {\n",
      "            \"blockNumber\": \"20814896\",\n",
      "            \"timeStamp\": \"1727113955\",\n",
      "            \"hash\": \"0xe0088988ec5799c4e17dae2c7ab680650e6a9d4809cac2802a52386406fff0ec\",\n",
      "            \"nonce\": \"788264\",\n",
      "            \"blockHash\": \"0x710a19839b4b127666ea5c1d790b6e5a28e8a8445ced77c63cd37816f8e78fb6\",\n",
      "            \"from\": \"0x4e5b2e1dc63f6b91cb6cd759936495434c7e972f\",\n",
      "            \"contractAddress\": \"0xa0b86991c6218b36c1d19d4a2e9eb0ce3606eb48\",\n",
      "            \"to\": \"0x95222290dd7278aa3ddd389cc1e1d165cc4bafe5\",\n",
      "            \"value\": \"40347137\",\n",
      "            \"tokenName\": \"USDC\",\n",
      "            \"tokenSymbol\": \"USDC\",\n",
      "            \"tokenDecimal\": \"6\",\n",
      "            \"transactionIndex\": \"18\",\n",
      "            \"gas\": \"90000\",\n",
      "            \"gasPrice\": \"22000000000\",\n",
      "            \"gasUsed\": \"45160\",\n",
      "            \"cumulativeGasUsed\": \"2692955\",\n",
      "            \"input\": \"deprecated\",\n",
      "            \"confirmations\": \"1414774\"\n",
      "        },\n",
      "        {\n",
      "            \"blockNumber\": \"19984685\",\n",
      "            \"timeStamp\": \"1717096631\",\n",
      "            \"hash\": \"0x759867fc7df700ee7b25ed868b9c52718b07d360514e2e6a22254335b6513cb9\",\n",
      "            \"nonce\": \"3\",\n",
      "            \"blockHash\": \"0xc7ad3639136f61b14ee4dff5402f049ad3c24a170acc5e44b539e0da2cb07fb7\",\n",
      "            \"from\": \"0x0d86e9d857f96f8fc3dfc9542abc0f0295c5c0d3\",\n",
      "            \"contractAddress\": \"0xa0b86991c6218b36c1d19d4a2e9eb0ce3606eb48\",\n",
      "            \"to\": \"0x95222290dd7278aa3ddd389cc1e1d165cc4bafe5\",\n",
      "            \"value\": \"3000000\",\n",
      "            \"tokenName\": \"USDC\",\n",
      "            \"tokenSymbol\": \"USDC\",\n",
      "            \"tokenDecimal\": \"6\",\n",
      "            \"transactionIndex\": \"35\",\n",
      "            \"gas\": \"50320\",\n",
      "            \"gasPrice\": \"13091318147\",\n",
      "            \"gasUsed\": \"40348\",\n",
      "            \"cumulativeGasUsed\": \"6539675\",\n",
      "            \"input\": \"deprecated\",\n",
      "            \"confirmations\": \"2244985\"\n",
      "        },\n",
      "        {\n",
      "            \"blockNumber\": \"19235519\",\n",
      "            \"timeStamp\": \"1708026551\",\n",
      "            \"hash\": \"0xcd409bcf6386e537430530195e3cce16725f82706b54bc0839720b8c62771982\",\n",
      "            \"nonce\": \"1241866\",\n",
      "            \"blockHash\": \"0x3ee63382b883fc40e35da6023fb341dd01cd2ec011f992bb54cf312f517740c9\",\n",
      "            \"from\": \"0xa9d1e08c7793af67e9d92fe308d5697fb81d3e43\",\n",
      "            \"contractAddress\": \"0xa0b86991c6218b36c1d19d4a2e9eb0ce3606eb48\",\n",
      "            \"to\": \"0x95222290dd7278aa3ddd389cc1e1d165cc4bafe5\",\n",
      "            \"value\": \"500000000\",\n",
      "            \"tokenName\": \"USDC\",\n",
      "            \"tokenSymbol\": \"USDC\",\n",
      "            \"tokenDecimal\": \"6\",\n",
      "            \"transactionIndex\": \"124\",\n",
      "            \"gas\": \"2000000\",\n",
      "            \"gasPrice\": \"87504603347\",\n",
      "            \"gasUsed\": \"561143\",\n",
      "            \"cumulativeGasUsed\": \"10950508\",\n",
      "            \"input\": \"deprecated\",\n",
      "            \"confirmations\": \"2994151\"\n",
      "        },\n",
      "        {\n",
      "            \"blockNumber\": \"18085284\",\n",
      "            \"timeStamp\": \"1694098595\",\n",
      "            \"hash\": \"0x71708bac55e448591e4aa260bf6f6e214067d9de53aaec2c5b649582fa6108c1\",\n",
      "            \"nonce\": \"343199\",\n",
      "            \"blockHash\": \"0x0f97861ce6258e5fc5a149715a009ac1fb9c35928c6a3e2b2c26c4d5a247f81a\",\n",
      "            \"from\": \"0x973693cd07f9b3b60a899ad1cc8415a25150bc48\",\n",
      "            \"contractAddress\": \"0xa0b86991c6218b36c1d19d4a2e9eb0ce3606eb48\",\n",
      "            \"to\": \"0x95222290dd7278aa3ddd389cc1e1d165cc4bafe5\",\n",
      "            \"value\": \"10000\",\n",
      "            \"tokenName\": \"USDC\",\n",
      "            \"tokenSymbol\": \"USDC\",\n",
      "            \"tokenDecimal\": \"6\",\n",
      "            \"transactionIndex\": \"427\",\n",
      "            \"gas\": \"188580\",\n",
      "            \"gasPrice\": \"26138696240\",\n",
      "            \"gasUsed\": \"117972\",\n",
      "            \"cumulativeGasUsed\": \"19930651\",\n",
      "            \"input\": \"deprecated\",\n",
      "            \"confirmations\": \"4144386\"\n",
      "        },\n",
      "        {\n",
      "            \"blockNumber\": \"18074072\",\n",
      "            \"timeStamp\": \"1693962875\",\n",
      "            \"hash\": \"0x5435583b8d1afa4bca000e6547092cde0ba55a65ac60777077d263094981ee98\",\n",
      "            \"nonce\": \"128\",\n",
      "            \"blockHash\": \"0x9149a42cc163c437e3306c712facf12694ca38e064f28319e154b34dc9ea24b0\",\n",
      "            \"from\": \"0x2c952ee289bbdb3aeba329a4c41ae4c836bcc231\",\n",
      "            \"contractAddress\": \"0xa0b86991c6218b36c1d19d4a2e9eb0ce3606eb48\",\n",
      "            \"to\": \"0x95222290dd7278aa3ddd389cc1e1d165cc4bafe5\",\n",
      "            \"value\": \"30\",\n",
      "            \"tokenName\": \"USDC\",\n",
      "            \"tokenSymbol\": \"USDC\",\n",
      "            \"tokenDecimal\": \"6\",\n",
      "            \"transactionIndex\": \"134\",\n",
      "            \"gas\": \"164862\",\n",
      "            \"gasPrice\": \"20000000000\",\n",
      "            \"gasUsed\": \"139395\",\n",
      "            \"cumulativeGasUsed\": \"18344784\",\n",
      "            \"input\": \"deprecated\",\n",
      "            \"confirmations\": \"4155598\"\n",
      "        }\n",
      "    ]\n",
      "}\n",
      "size del response  8\n"
     ]
    }
   ],
   "source": [
    "adress = ADDRESS_TEST\n",
    "api_key = API_KEY\n",
    "offset = 10000\n",
    "contract_address = \"0xA0b86991c6218b36c1d19D4a2e9Eb0cE3606eB48\" #TOKEN CONTRACT\n",
    "page = 1\n",
    "url = f\"https://api.etherscan.io/v2/api?chainid=1&module=account&action=tokentx&contractaddress={contract_address}&address={adress}&page={page}&offset={offset}&startblock=0&endblock=latest&sort=desc&apikey={api_key}\"\n",
    "\n",
    "headers = {\"accept\": \"application/json\"}\n",
    "response = requests.get(url, headers=headers)\n",
    "json_data = response.json()\n",
    "# json_bonis = json_data\n",
    "json_bonis = json.dumps(json_data, indent=4, ensure_ascii=False)\n",
    "# print(json_bonis)\n",
    "#print(response.json())\n",
    "\n",
    "datos_diccionario = json.loads(json_bonis)\n",
    "print(json_bonis)\n",
    "\n",
    "print(\"size del response \",np.size(datos_diccionario['result']))"
   ]
  },
  {
   "cell_type": "markdown",
   "metadata": {},
   "source": [
    "## MAIN"
   ]
  },
  {
   "cell_type": "code",
   "execution_count": 23,
   "metadata": {},
   "outputs": [
    {
     "name": "stdout",
     "output_type": "stream",
     "text": [
      "ETH BALANCE: 0.028736074616958488 ETH\n"
     ]
    }
   ],
   "source": [
    "eth_balance = get_eth_balace(address=ADDRESS_KMBIO,api_key=API_KEY)"
   ]
  },
  {
   "cell_type": "code",
   "execution_count": null,
   "metadata": {},
   "outputs": [],
   "source": []
  }
 ],
 "metadata": {
  "kernelspec": {
   "display_name": "Python 3",
   "language": "python",
   "name": "python3"
  },
  "language_info": {
   "codemirror_mode": {
    "name": "ipython",
    "version": 3
   },
   "file_extension": ".py",
   "mimetype": "text/x-python",
   "name": "python",
   "nbconvert_exporter": "python",
   "pygments_lexer": "ipython3",
   "version": "3.11.11"
  }
 },
 "nbformat": 4,
 "nbformat_minor": 2
}
