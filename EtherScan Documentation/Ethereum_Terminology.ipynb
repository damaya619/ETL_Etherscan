{
 "cells": [
  {
   "cell_type": "markdown",
   "id": "28f03b40",
   "metadata": {},
   "source": [
    "## Mecanismo Consenso basado en PoS"
   ]
  },
  {
   "cell_type": "markdown",
   "id": "84027125",
   "metadata": {},
   "source": [
    "### Abstract\n",
    "\n",
    "En la red Ethereum un consenso se alcanza cuando almenos el 66% de los nodos de la red están de acuerdo en el estado global de la red.\n",
    "\n",
    "+ Ethereum cambio de PoW (Proof of Work) a PoS (Proof of Stake), es decir, de minería a staking\n",
    "\n",
    "+ Los Validadores que hacen Stake de ETH reeplezan a los mineros.\n",
    "\n",
    "+ Staking necesita un mínimo de 32 ETH.\n",
    "\n",
    "+ Las acciones de los validadores están reguladas por un equilibrio de sanciones y recompensas, lo que garantiza que actúen en el mejor interés de la red.\n",
    "\n"
   ]
  },
  {
   "cell_type": "markdown",
   "id": "eef1ead4",
   "metadata": {},
   "source": [
    "### ¿Que es el PoS (Proof-of-Stake)?\n",
    "\n",
    "+ Es una manera para provar que los validadores han puesto algo de valor en la red que puede ser destruido si actuan de forma deshonesta.\n",
    "\n",
    "+ Los validadores explícitamente \"apuestan\" (hacen stake de) capital en forma de ETH en los smart contracts de Ethereum. \n",
    "\n",
    "+ El validador es responsable de verificar que los nuevos bloques propagados sobre la red sean válidos y ocasionalmente crean y propagan nuevos bloques.\n",
    "\n",
    "+ Si intentan defraudar a la red (por ejemplo, proponiendo múltiples bloques cuando deben enviar uno o enviar certificaciones conflictivas), algunos o todos sus ETH en stake pueden ser destruidos.\n",
    "\n",
    "+ Un sistema de prueba de participación es seguro porque un atacante que intente tomar el control de la cadena debe destruir una cantidad masiva de ETH. Un sistema de recompensas incentiva a los participantes a comportarse honestamente, y las sanciones los desincentivan a actuar maliciosamente.\n",
    "\n"
   ]
  },
  {
   "cell_type": "markdown",
   "id": "a2d86dae",
   "metadata": {},
   "source": [
    "### Validadores\n",
    "\n",
    "+ Para participar como Validador, un usuario deberá depositar 32 ETH en el contrato de depósito y correr 3 piezas separadas de software:\n",
    "\n",
    "    + un cliente de ejecución\n",
    "    + un cliente de consenso\n",
    "    + un cliente de validador.\n",
    "\n",
    "+ Al depositar el ETH, el usuario se une a una cola de activación que limita la tasa de nuevos validadores que se unen a la red. \n",
    "\n",
    "+ Una vez activados, los validadores reciben nuevos bloques de pares en la red Ethereum. Las transacciones entregadas en el bloque se vuelven a ejecutar para verificar que los cambios propuestos al estado de Ethereum sean válidos y se verifique la firma del bloque.\n",
    "\n",
    "+ El validador luego envía un voto llamado certificación, o attestation, a favor de ese bloque a través de la red.\n",
    "\n",
    "\n"
   ]
  },
  {
   "cell_type": "markdown",
   "id": "b7fc97d2",
   "metadata": {},
   "source": [
    "### Tiempos en PoS\n",
    "+ A diferencia de las PoW, el timing de los bloques está determinado por la dificultad de la minería, en las PoS el tempo es fijo. \n",
    "\n",
    "+ El tiempo en las PoS de Ethereum esta dividido en slots de 12 segundos y en epocas de 32 slots (384 segundos).\n",
    "\n",
    "+ Un validador es elegido aleatoriamente para ser un proponente de bloque (block proposer) en cada slot.\n",
    "\n",
    "+ Este validador es responsable de crear un nuevo bloque y enviarlo a otros nodos en la red.\n",
    "\n",
    "+ También en cada slot, se elige aleatoriamente un comité de validadores, cuyos votos se utilizan para determinar la validez del bloque que se propone\n",
    "\n",
    "+ Los comités dividen el conjunto de validadores para que cada validador activo atestigue en cada época, pero no en cada slot."
   ]
  },
  {
   "cell_type": "markdown",
   "id": "f4bb3d1a",
   "metadata": {},
   "source": [
    "### Creación de Bloques\n",
    "\n",
    "+ Los validadores crean bloques. \n",
    "\n",
    "+ Los validadores son elegidos aleatoriamente basandose en cuanto staken hacen en la red. Cuanto mayor sea el stake mas probabilidades hay de ser elegido, como una rifa.\n",
    "\n",
    "+ Se selecciona aleatoriamente un validador en cada slot para proponer el bloque. Su cliente de consenso solicita un conjunto de transacciones como \"carga útil de ejecución\" a su cliente de ejecución emparejado.\n",
    "\n",
    "+ Lo integran en datos de consenso para formar un bloque, que envían a otros nodos de la red Ethereum.\n",
    "\n",
    "+ La producción de bloques se recompensa en ETH.\n",
    "\n",
    "+ En casos excepcionales cuando existen múltiples bloques posibles para un solo slot, o los nodos reciben noticias de bloques en diferentes momentos, el algoritmo de elección de bifurcación (fork algoritm) elige el bloque que forma la cadena con el mayor peso de certificaciones (donde el peso es la cantidad de validadores que certifican, escalada por su saldo de ETH)."
   ]
  },
  {
   "cell_type": "markdown",
   "id": "7fe2546b",
   "metadata": {},
   "source": [
    "### Ejecución de Transacciones en PoS de Ethereum\n",
    "\n"
   ]
  },
  {
   "cell_type": "markdown",
   "id": "5e98423d",
   "metadata": {},
   "source": [
    "El nodo de un Validador consta de tres partes: \n",
    "+ **Un cliente de ejecución:** Agrupa transacciones del grupo de memoria local en una \"carga de ejecución\" y las ejecuta localmente para generar un cambio de estado.\n",
    "+ **Un cliente de consenso:** Envuelve la carga de ejecución como parte de un \"bloque faro\" que también contiene información sobre recompensas, penalizaciones, cortes, certificaciones, etc., que permiten que la red concuerde en la secuencia de bloques al principio de la cadena.\n",
    "+ **Un cliente de validación:** Certifica que el bloque es válido y es el siguiente bloque lógico en su visión de la cadena (lo que significa que se basa en la cadena con el mayor peso de certificaciones según se define en las fork choice rules)."
   ]
  },
  {
   "cell_type": "markdown",
   "id": "b2f2217e",
   "metadata": {},
   "source": [
    "**1.** Un usuario crea y firma una transacción con su llave privada. Esto es usualemnte manejado por una wallet o una librería. Pero debajo del capó, el usuario está haciendo una solicitud a un nodo utilizando la API Ethereum JSON-RPC. También, el usuario define la cantidad de gas que esta dispuesto a pagar como una propina a un validador para animarlo a que incluya la transacción en un bloque. \n",
    "\n",
    "**2.** La transacción es enviado a un cliente de ejecución de Ethereum el cual verifica su validez. Es decir, asegurandose que el remitente tiene suficiente ETH para realizar la transacción y que se ha firmado con la llave correcta.\n",
    "\n",
    "**3.** Si la transacción es válida, el cliente de ejecución lo agrega a su Mempool local (lista de transacciones pendientes) y también lo transmite a otros nodos a través de la execution layer network. Cuando otros nodos escuchan sobre la transacción, también lo agregan a su Mempool local.\n",
    "\n",
    "**4.** Uno de los nodos validadores de la red es el proponente de bloques para la ranura actual, seleccionado previamente de forma pseudoaleatoria mediante RANDAO. Este nodo se encarga de construir y difundir el siguiente bloque que se añadirá a la blockchain de Ethereum, así como de actualizar el estado global. El nodo de ejecución agrupa las transacciones y luego la pasa al clinte de consenso.\n",
    "\n",
    "**5.** Otros nodos reciben el nuevo bloque faro en la consensus layer gossip network. Lo pasan a su cliente de ejecución, donde las transacciones se reejecutan localmente para garantizar la validez del cambio de estado propuesto. El cliente validador certifica que el bloque es válido. El bloque se añade a la base de datos local de cada nodo que lo certifica.\n",
    "\n",
    "**6.** La transacción puede considerarse \"finalizada\" si forma parte de una cadena con un enlace de supermayoría (supermajority link) entre dos puntos de control. \n",
    "Los puntos de control se producen al inicio de cada época y existen para justificar que solo un subconjunto de validadores activos certifica en cada slot, pero todos los validadores activos certifican en cada época. Por lo tanto, solo entre épocas se puede demostrar un enlace de supermayoría (es decir, cuando el 66 % del total de ETH en staking en la red coincide en dos puntos de control).\n",
    "\n",
    "\n",
    "\n",
    "\n"
   ]
  },
  {
   "cell_type": "markdown",
   "id": "74668dc4",
   "metadata": {},
   "source": [
    "### Finality / Finalidad\n",
    "\n",
    "+ Una transacción tiene \"finalidad\" en redes distribuidas cuando es parte de un bloque que no puede cambiar sin que se queme una gran cantidad de ETH. En la PoS de Ethereum, esto se gestiona mediante bloques de \"checkpoint\". \n",
    "\n",
    "+ El primer bloque de cada época es un checkpoint. Los validadores votan por los pares de checkpoints que consideran válidos. Si un par de checkpoints atrae votos que representan al menos dos tercios del total de ETH en staking, se actualizan. El más reciente de los dos (objetivo) se convierte en \"justificado\". El anterior ya está justificado porque era el \"objetivo\" en la época anterior. Ahora se actualiza a \"finalizado\".\n",
    "\n",
    "+ Para revertir un bloque finalizado, un atacante se comprometería a perder al menos un tercio del suministro total de ETH en staking. Dado que la finalización requiere una mayoría de dos tercios, un atacante podría impedir que la red alcance la finalización votando con un tercio del total de la participación. \n",
    "\n",
    "+ Existe un mecanismo para defenderse: la fuga de inactividad. Esta se activa cuando la cadena no logra finalizar durante más de cuatro epochs. La fuga de inactividad absorbe los ETH en staking de los validadores que votan en contra de la mayoría, lo que permite a esta recuperar una mayoría de dos tercios y finalizar la cadena."
   ]
  },
  {
   "cell_type": "markdown",
   "id": "c23d663f",
   "metadata": {},
   "source": [
    "### Fuentes: \n",
    "Pos: \n",
    "+ https://ethereum.org/en/developers/docs/consensus-mechanisms/ \n",
    "+ https://ethereum.org/en/developers/docs/consensus-mechanisms/pos/\n",
    "\n",
    "Gas: \n",
    "+ https://ethereum.org/en/developers/docs/gas/\n",
    "\n"
   ]
  },
  {
   "cell_type": "markdown",
   "id": "ea0a7d79",
   "metadata": {},
   "source": []
  }
 ],
 "metadata": {
  "language_info": {
   "name": "python"
  }
 },
 "nbformat": 4,
 "nbformat_minor": 5
}
