{
 "cells": [
  {
   "cell_type": "markdown",
   "id": "12862f07",
   "metadata": {},
   "source": [
    "## Creación de la API Key"
   ]
  },
  {
   "cell_type": "markdown",
   "id": "61119cd8",
   "metadata": {},
   "source": [
    "1. Crear una cuenta en Etherscan\n",
    "2. Dirigirse al API Dashboard\n",
    "3. Buscar \"Add\" en la lista de API Keys \n",
    "4. Nombrar la llave y elegir \"Generar\""
   ]
  },
  {
   "cell_type": "markdown",
   "id": "780576ac",
   "metadata": {},
   "source": [
    "# ACCCOUNT ENDPOINTS"
   ]
  },
  {
   "cell_type": "markdown",
   "id": "5ec46ce8",
   "metadata": {},
   "source": [
    "### Get Ether Balance for a Single Address"
   ]
  },
  {
   "cell_type": "markdown",
   "id": "f5d1f304",
   "metadata": {},
   "source": [
    "API ENDPOINTS >>> Accounts >>> Get Ether Balance for a Single Address"
   ]
  },
  {
   "cell_type": "markdown",
   "id": "7602d911",
   "metadata": {},
   "source": [
    "Returns the Ether balance of a given address.\n",
    "\n",
    "`result` esta en Wei (10^-18).\n",
    "\n",
    "ETH = Wei / 1000000000000000000\n",
    "\n",
    "```json\n",
    "{\n",
    "    \"status\": \"1\",\n",
    "    \"message\": \"OK\",\n",
    "    \"result\": \"28736074616958488\"\n",
    "}\n",
    "\n"
   ]
  },
  {
   "cell_type": "markdown",
   "id": "cf8ff398",
   "metadata": {},
   "source": [
    "Si quisieramos de varias cuentas, se deberá modificar en la API  `&action=balancemulti` y colocar las adress separadas por comas"
   ]
  },
  {
   "cell_type": "markdown",
   "id": "7d1f5b93",
   "metadata": {},
   "source": [
    "### Get a list of 'Normal' Transactions By Address & Get a list of 'Internal' Transactions by Address"
   ]
  },
  {
   "cell_type": "markdown",
   "id": "e2776496",
   "metadata": {},
   "source": [
    "Regresa 3 campos\n",
    "+ `status`: si todo va bien\n",
    "+ `message`: si salió bien o no el request\n",
    "+ `result`: resultado de la request\n",
    "\n",
    "El tamaño de `result` se puede sacar de 2 maneras:\n",
    "+ Las 10 mil mas recientes de golpe, que es el máximo disponible.\n",
    "+ O distribuirlo en n número de páginas a través de `page` para el numero de páginas  y `offset` para definir cuants operaciones por página. De igual manera se debe mantener que `page * offset <= 10000` "
   ]
  },
  {
   "cell_type": "markdown",
   "id": "4139b692",
   "metadata": {},
   "source": [
    "**Internal Transactions:** \n",
    "\n",
    "+ Son acciones derivadas de la ejecución de un contrato inteligente. No son transacciones independientes, sino \"mensajes\" o llamadas entre contratos durante la ejecución de una transacción normal.\n",
    "\n",
    "+ No pagan gas directamente (el costo se incluye en la transacción normal que las desencadenó).\n",
    "\n",
    "+ No se almacenan en la blockchain, pero afectan el estado global (ej. balances de ETH) "
   ]
  },
  {
   "cell_type": "markdown",
   "id": "e3e26163",
   "metadata": {},
   "source": [
    "#### Campos de Interes\n",
    "\n",
    "```json\n",
    "{\n",
    "\"blockNumber\": \"22148335\", #numero de bloque\n",
    "\"blockHash\": \"0x82a893a11d14bdb1eb8de182d6c8019c01b065a6730cf4f0533b24113d23fc67\", #hash del bloque\n",
    "\"timeStamp\": \"1743200219\", #timestamp de la operación\n",
    "\"hash\": \"0xa7cece9d687f72afe502babb044b5ddff0a1c536952b4bb6133c26d4186aa52b\", #Hash ID de la operación\n",
    "\"nonce\": \"5937607\", #número único y secuencial asignado a cada transacción enviada desde una dirección, complemento tipo [Address + Nonce]\n",
    "\"transactionIndex\": \"67\", # Posición en el bloque\n",
    "\"from\": \"0xf89d7b9c864f589bbf53a82105107622b35eaa40\", # inicio \n",
    "\"to\": \"0xc199c14ea25a3ce8dd78e8707cf8a4fa3a625fc8\", # destino\n",
    "\"value\": \"28754430000000000\", # ETH transferido \n",
    "\"gas\": \"90000\", # Gas Limit, maximo gas destinado para la transacción\n",
    "\"gasPrice\": \"2391663879\", # costo unitario de gas en Gwei\n",
    "\"input\": \"0x\",\n",
    "\"methodId\": \"0x\",\n",
    "\"functionName\": \"\",\n",
    "\"contractAddress\": \"\",\n",
    "\"cumulativeGasUsed\": \"8075838\",\n",
    "\"txreceipt_status\": \"1\",\n",
    "\"gasUsed\": \"21000\", #Gas usado para la transacción\n",
    "\"confirmations\": \"79181\", # numero de bloques que confirman la transaccion\n",
    "\"isError\": \"0\" #¿Hubo error en la transacción?\n",
    "}"
   ]
  },
  {
   "cell_type": "markdown",
   "id": "f0037c18",
   "metadata": {},
   "source": [
    "### Get a list of 'ERC20 - Token Transfer Events' by Address"
   ]
  },
  {
   "cell_type": "markdown",
   "id": "c5986929",
   "metadata": {},
   "source": [
    "#### Campos de Interes\n",
    "\n",
    "```json\n",
    "\"result\": [\n",
    "    {\n",
    "        \"blockNumber\": \"21716428\",\n",
    "        \"timeStamp\": \"1737987755\",\n",
    "        \"hash\": \"0xaadcc2d5e35041f0bc82476bf136a326e0a1ff31653341e56b19bab2ca4f8f24\",\n",
    "        \"nonce\": \"7\",\n",
    "        \"blockHash\": \"0x1ca3f8c665ce7116062e611c8091778a7b48a7b598ebc1c172a58b0e22809d58\",\n",
    "        \"from\": \"0x5ebaa6c8ef22ef762a9323981dd7587b4eef1e3f\",\n",
    "        \"contractAddress\": \"0xa0b86991c6218b36c1d19d4a2e9eb0ce3606eb48\",\n",
    "        \"to\": \"0x95222290dd7278aa3ddd389cc1e1d165cc4bafe5\",\n",
    "        \"value\": \"1852000\", # Cantidad de la transacción = value/10e6\n",
    "        \"tokenName\": \"USDC\", # Nombre del Token\n",
    "        \"tokenSymbol\": \"USDC\",\n",
    "        \"tokenDecimal\": \"6\",\n",
    "        \"transactionIndex\": \"81\",\n",
    "        \"gas\": \"68292\",\n",
    "        \"gasPrice\": \"33023937642\",\n",
    "        \"gasUsed\": \"45148\",\n",
    "        \"cumulativeGasUsed\": \"5000549\",\n",
    "        \"input\": \"deprecated\",\n",
    "        \"confirmations\": \"511493\"\n",
    "    },\n",
    "...\n",
    "]"
   ]
  },
  {
   "cell_type": "markdown",
   "id": "eeee7227",
   "metadata": {},
   "source": []
  }
 ],
 "metadata": {
  "language_info": {
   "name": "python"
  }
 },
 "nbformat": 4,
 "nbformat_minor": 5
}
