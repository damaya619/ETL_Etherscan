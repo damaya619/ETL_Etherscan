{
 "cells": [
  {
   "cell_type": "markdown",
   "metadata": {},
   "source": [
    "## API Key Rate Limit\n",
    "\n",
    "Limites de la API por cuenta:\n",
    "+ Depende del plan de pago elegido \n",
    "+ 1000 registros por llamada\n",
    "+ 5 llamadas por segundo\n",
    "+ 100,000 llamadas por día"
   ]
  },
  {
   "cell_type": "markdown",
   "metadata": {},
   "source": [
    "## Salidad en caso de errores en la API\n",
    "\n",
    "+ Rate de llamadas excedido: \\\n",
    "    `{\"status\":\"0\",\"message\":\"NOTOK\",\"result\":\"Max rate limit reached\"}`\n",
    "\n",
    "+ Request de la API con la API Key en blanco o la que tiene default \"YourApiKeyToken\": \\\n",
    "`{\"status\":\"1\",\"message\":\"OK-Missing/Invalid API Key, rate limit of 1/5sec applied\",\"result\":\"595623370144773018344492\"}`\n",
    "\n",
    "+ Request de la API con API Key inválida: \\\n",
    "`{\"status\":\"0\",\"message\":\"NOTOK\",\"result\":\"Invalid API Key\"}`\n",
    "\n",
    "+ Request de API con una API Key  inválida que excede el límite de intentos: \\\n",
    "`{\"status\":\"0\",\"message\":\"NOTOK\",\"result\":\"Too many invalid api key attempts, please try again later\"}`"
   ]
  },
  {
   "cell_type": "markdown",
   "metadata": {},
   "source": [
    "## Respuestas de la API\n",
    "\n",
    "+ Status: 1 - Ok , 0 - Not ok\n",
    "+ Message: Ok - Success , Notok - Failed  (Additional messages might be included based on scenarios.)\n",
    "+ Result: Return the API results"
   ]
  },
  {
   "cell_type": "markdown",
   "metadata": {},
   "source": [
    "FUENT: https://info.etherscan.com/api-return-errors/"
   ]
  },
  {
   "cell_type": "markdown",
   "metadata": {},
   "source": []
  }
 ],
 "metadata": {
  "language_info": {
   "name": "python"
  }
 },
 "nbformat": 4,
 "nbformat_minor": 2
}
