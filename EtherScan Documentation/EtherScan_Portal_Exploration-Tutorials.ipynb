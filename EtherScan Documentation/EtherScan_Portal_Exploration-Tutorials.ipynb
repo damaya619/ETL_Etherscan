{
 "cells": [
  {
   "cell_type": "markdown",
   "id": "43f74b4f",
   "metadata": {},
   "source": [
    "## Event Logs (Resgistro de Eventos)\n",
    "\n",
    "Mecanismo para los smart contracts para emitir data estructurada durante la ejecución. \n",
    "\n",
    "+ **Topic0:** es el primer Topic del Event Log. Se suele usar para representar el evento en sí o algún identificador principal del evento. El Topic0 es esencialmente un hash Keccak256 de la firma del evento, compuesto por el nombre del evento y los tipos de sus parámetros de entrada.\n",
    "\n",
    "+ La firma del evento ayuda a distinguir un evento de otro al garantizar que los eventos con diferentes nombres o tipos de parámetros tengan firmas distintas. \n",
    "\n",
    "+ Cuando se emite un evento dentro de un smart contract, su firma se utiliza para crear el registro de eventos."
   ]
  },
  {
   "cell_type": "markdown",
   "id": "a1a5822c",
   "metadata": {},
   "source": [
    "## Code Reader\n",
    "\n",
    "El Code Reader es una herramienta que aprovecha el poder de la IA para brindar a los usuarios la capacidad de recuperar e interpretar el código fuente de una dirección de contrato específica. Al seleccionar una dirección de contrato, los usuarios pueden acceder e interactuar con los archivos de código fuente del contrato.\n",
    "\n",
    "Mini-Tutorial\n",
    "\n",
    "1. Comienza ingresando tu clave API de OpenAI.\n",
    "2. Pega la dirección del contrato que deseas explorar.\n",
    "3. La herramienta recuperará automáticamente todos los archivos asociados al contrato proporcionado.\n",
    "4. Una vez recuperados los archivos del contrato, puedes elegir un archivo de código fuente específico para leer. Además, puedes modificar el código fuente directamente en la interfaz de usuario antes de compartirlo con la IA.\n",
    "5. Con base en el código fuente seleccionado, puedes generar indicaciones para que la IA interactúe con el código y haga preguntas para comprenderlo mejor."
   ]
  },
  {
   "cell_type": "markdown",
   "id": "39366cc4",
   "metadata": {},
   "source": [
    "## Filtros Avanzados"
   ]
  },
  {
   "cell_type": "markdown",
   "id": "7bb269c2",
   "metadata": {},
   "source": [
    "\n",
    "\n",
    "#### Tipo de Transacción\n",
    "\n",
    "+ **Txs:** Todas las transacciones que involucran una EOA o Externally Owned Address (Dirección de propiedad externa, o normalmente denominada dirección de billetera) enviando ETH directamente hacia otra dirección.\n",
    "\n",
    "+ **Internal Txs:** Transacciones que son consecuencias de la lógica de los smart contracts desencadenadas por transacciones regulares.\n",
    "\n",
    "+ **ERC-20:** Transacciones que involucran tokens de ERC-20\n",
    "+ **ERC-721:** Transacciones que involucran NFTs ERC-721\n",
    "+ **ERC-1155:** Transacciones que involucran NFTs ERC-1155\n",
    "+ **Deposit:** Transacciones que implican el depósito de ETH en el Beacon Chain Contract para validar Ethereum.\n",
    "+ **Withdrawal:** Transacciones que implican el retiro de ETH de la Beacon Chain Contract como resultado del retiro automático de recompensa o la salida como validador."
   ]
  },
  {
   "cell_type": "markdown",
   "id": "8c5e416a",
   "metadata": {},
   "source": [
    "### Metodo"
   ]
  },
  {
   "cell_type": "markdown",
   "id": "abd30419",
   "metadata": {},
   "source": [
    "### Age\n",
    "\n",
    "+ Puede utilizar este filtro para analizar transacciones y actividades dentro de períodos específicos, lo que proporciona información sobre eventos recientes o históricos.\n",
    "\n",
    "+ Ofrece rangos de tiempo predefinidos (p. ej., última hora, últimas 24 horas, últimos 7 días, últimos 30 días, últimos 90 días) o la opción de establecer una duración personalizada."
   ]
  },
  {
   "cell_type": "markdown",
   "id": "c74c46cc",
   "metadata": {},
   "source": [
    "### From and To\n",
    "\n",
    "+ Se puede especificar si desea incluir o excluir transacciones que involucren direcciones específicas. Este filtro también permite agregar varias direcciones, lo que permite un filtrado más complejo y preciso. Puede ingresar hasta 5 direcciones de Ethereum y seleccionar las opciones \"Incluir\" o \"Excluir\".\n",
    "\n",
    "+ Al usar el operador \"AND\", los resultados filtrados mostrarán solo las transacciones que involucren las direcciones \"De\" y \"A\". Al usar el operador \"OR\", los resultados mostrarán las transacciones relacionadas con cualquiera de las direcciones en los campos \"De\" y \"A\"."
   ]
  },
  {
   "cell_type": "markdown",
   "id": "2687e694",
   "metadata": {},
   "source": [
    "### Amount\n",
    "\n",
    "Se puede filtrar transacciones según el valor transferido. Esto resulta útil para rastrear transacciones dentro de límites de valor específicos o analizar transferencias de alto valor.\n"
   ]
  },
  {
   "cell_type": "markdown",
   "id": "3190fa22",
   "metadata": {},
   "source": [
    "### Asset\n",
    "\n",
    "Se puede usar este filtro para buscar transacciones que involucren tokens específicos, especificando el nombre, el símbolo o la dirección del contrato. El usuario pueden seleccionar las opciones \"Es\" o \"No es\" para incluir o excluir transacciones relacionadas con el token especificado.\n",
    "\n",
    "Activos como ETH, USDC, USDT, DAI, WETH y WBTC están disponibles.\n"
   ]
  },
  {
   "cell_type": "markdown",
   "id": "c715b14a",
   "metadata": {},
   "source": [
    "### Topic0\n",
    "\n",
    "Esto se refiere al evento específico que se emite en respuesta a la ejecución de una función en una transacción.\n",
    "\n",
    "Para filtrar un registro de eventos específico, deberá ingresar la adress del contrato que emitió el evento en particular y el Topic0 correspondiente."
   ]
  },
  {
   "cell_type": "markdown",
   "id": "0a7d1fef",
   "metadata": {},
   "source": [
    "### Otros\n",
    "\n",
    "+ **Guardar Filtro:** Guarde el filtro para futuras consultas. Para usar esta función, deberá iniciar sesión en su cuenta de Etherscan.\n",
    "\n",
    "+ **Columnsas:** Personaliza las columnas se quiere ver y las preferencias se guardarán. También se puede activar el modo de pantalla completa para ver más columnas.\n",
    "\n",
    "+ **Reinicio de filtro:** Restaura los filtros al default (desactivados)\n",
    "\n",
    "+ **Ultima actualización:** Los datos mostrados en el filtro reflejan la información disponible hasta el bloque especificado.\n"
   ]
  },
  {
   "cell_type": "markdown",
   "id": "bb2cb2d0",
   "metadata": {},
   "source": []
  }
 ],
 "metadata": {
  "language_info": {
   "name": "python"
  }
 },
 "nbformat": 4,
 "nbformat_minor": 5
}
